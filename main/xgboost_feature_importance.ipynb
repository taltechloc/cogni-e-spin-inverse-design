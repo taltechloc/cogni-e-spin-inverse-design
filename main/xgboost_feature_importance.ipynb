{
 "cells": [
  {
   "cell_type": "code",
   "execution_count": 2,
   "id": "7bcb7b6c",
   "metadata": {},
   "outputs": [
    {
     "name": "stderr",
     "output_type": "stream",
     "text": [
      "/home/mehrab/Repositories/Cogni-E-Spin/analysis/inverse_design/.venv/lib/python3.10/site-packages/tqdm/auto.py:21: TqdmWarning: IProgress not found. Please update jupyter and ipywidgets. See https://ipywidgets.readthedocs.io/en/stable/user_install.html\n",
      "  from .autonotebook import tqdm as notebook_tqdm\n"
     ]
    }
   ],
   "source": [
    "import numpy as np\n",
    "import pandas as pd\n",
    "import matplotlib.pyplot as plt\n",
    "import shap\n",
    "from sklearn.model_selection import KFold\n",
    "from xgboost import XGBRegressor\n",
    "import seaborn as sns\n"
   ]
  },
  {
   "cell_type": "code",
   "execution_count": 3,
   "id": "3e8a20f7",
   "metadata": {},
   "outputs": [
    {
     "data": {
      "application/vnd.microsoft.datawrangler.viewer.v0+json": {
       "columns": [
        {
         "name": "index",
         "rawType": "int64",
         "type": "integer"
        },
        {
         "name": "concentration",
         "rawType": "int64",
         "type": "integer"
        },
        {
         "name": "distance",
         "rawType": "float64",
         "type": "float"
        },
        {
         "name": "voltage",
         "rawType": "float64",
         "type": "float"
        },
        {
         "name": "flow_rate",
         "rawType": "float64",
         "type": "float"
        },
        {
         "name": "diameter",
         "rawType": "float64",
         "type": "float"
        },
        {
         "name": "diameter_stdev",
         "rawType": "float64",
         "type": "float"
        }
       ],
       "ref": "a82b7da5-355f-4383-964a-27447c399ac2",
       "rows": [
        [
         "0",
         "8",
         "10.0",
         "15.0",
         "0.2",
         "232.62",
         "26.6"
        ],
        [
         "1",
         "8",
         "10.0",
         "15.0",
         "0.3",
         "235.5",
         "24.52"
        ],
        [
         "2",
         "8",
         "10.0",
         "15.0",
         "0.4",
         "252.02",
         "25.89"
        ],
        [
         "3",
         "8",
         "10.0",
         "20.0",
         "0.2",
         "236.84",
         "37.3"
        ],
        [
         "4",
         "8",
         "10.0",
         "20.0",
         "0.3",
         "232.08",
         "30.22"
        ]
       ],
       "shape": {
        "columns": 6,
        "rows": 5
       }
      },
      "text/html": [
       "<div>\n",
       "<style scoped>\n",
       "    .dataframe tbody tr th:only-of-type {\n",
       "        vertical-align: middle;\n",
       "    }\n",
       "\n",
       "    .dataframe tbody tr th {\n",
       "        vertical-align: top;\n",
       "    }\n",
       "\n",
       "    .dataframe thead th {\n",
       "        text-align: right;\n",
       "    }\n",
       "</style>\n",
       "<table border=\"1\" class=\"dataframe\">\n",
       "  <thead>\n",
       "    <tr style=\"text-align: right;\">\n",
       "      <th></th>\n",
       "      <th>concentration</th>\n",
       "      <th>distance</th>\n",
       "      <th>voltage</th>\n",
       "      <th>flow_rate</th>\n",
       "      <th>diameter</th>\n",
       "      <th>diameter_stdev</th>\n",
       "    </tr>\n",
       "  </thead>\n",
       "  <tbody>\n",
       "    <tr>\n",
       "      <th>0</th>\n",
       "      <td>8</td>\n",
       "      <td>10.0</td>\n",
       "      <td>15.0</td>\n",
       "      <td>0.2</td>\n",
       "      <td>232.62</td>\n",
       "      <td>26.60</td>\n",
       "    </tr>\n",
       "    <tr>\n",
       "      <th>1</th>\n",
       "      <td>8</td>\n",
       "      <td>10.0</td>\n",
       "      <td>15.0</td>\n",
       "      <td>0.3</td>\n",
       "      <td>235.50</td>\n",
       "      <td>24.52</td>\n",
       "    </tr>\n",
       "    <tr>\n",
       "      <th>2</th>\n",
       "      <td>8</td>\n",
       "      <td>10.0</td>\n",
       "      <td>15.0</td>\n",
       "      <td>0.4</td>\n",
       "      <td>252.02</td>\n",
       "      <td>25.89</td>\n",
       "    </tr>\n",
       "    <tr>\n",
       "      <th>3</th>\n",
       "      <td>8</td>\n",
       "      <td>10.0</td>\n",
       "      <td>20.0</td>\n",
       "      <td>0.2</td>\n",
       "      <td>236.84</td>\n",
       "      <td>37.30</td>\n",
       "    </tr>\n",
       "    <tr>\n",
       "      <th>4</th>\n",
       "      <td>8</td>\n",
       "      <td>10.0</td>\n",
       "      <td>20.0</td>\n",
       "      <td>0.3</td>\n",
       "      <td>232.08</td>\n",
       "      <td>30.22</td>\n",
       "    </tr>\n",
       "  </tbody>\n",
       "</table>\n",
       "</div>"
      ],
      "text/plain": [
       "   concentration  distance  voltage  flow_rate  diameter  diameter_stdev\n",
       "0              8      10.0     15.0        0.2    232.62           26.60\n",
       "1              8      10.0     15.0        0.3    235.50           24.52\n",
       "2              8      10.0     15.0        0.4    252.02           25.89\n",
       "3              8      10.0     20.0        0.2    236.84           37.30\n",
       "4              8      10.0     20.0        0.3    232.08           30.22"
      ]
     },
     "execution_count": 3,
     "metadata": {},
     "output_type": "execute_result"
    }
   ],
   "source": [
    "df = pd.read_csv(\"../data/PVA-Ziabari-2009.csv\")\n",
    "df.head()"
   ]
  },
  {
   "cell_type": "code",
   "execution_count": 4,
   "id": "a9a887b6",
   "metadata": {},
   "outputs": [],
   "source": [
    "X = df[[\"concentration\", \"distance\", \"voltage\", \"flow_rate\"]]\n",
    "y = df['diameter']"
   ]
  },
  {
   "cell_type": "code",
   "execution_count": 5,
   "id": "6ae659ac",
   "metadata": {},
   "outputs": [
    {
     "name": "stdout",
     "output_type": "stream",
     "text": [
      "Training fold 1 ...\n",
      "Training fold 2 ...\n",
      "Training fold 3 ...\n",
      "Training fold 4 ...\n",
      "Training fold 5 ...\n",
      "All folds complete.\n",
      "\n"
     ]
    }
   ],
   "source": [
    "kf = KFold(n_splits=5, shuffle=True, random_state=42)\n",
    "\n",
    "all_shap_vals = []\n",
    "all_X_valid   = []\n",
    "feature_names = X.columns\n",
    "\n",
    "for fold, (train_idx, valid_idx) in enumerate(kf.split(X, y), 1):\n",
    "    print(f\"Training fold {fold} ...\")\n",
    "    X_train, X_valid = X.iloc[train_idx], X.iloc[valid_idx]\n",
    "    y_train, y_valid = y.iloc[train_idx], y.iloc[valid_idx]\n",
    "\n",
    "    # Train XGBoost\n",
    "    model = XGBRegressor(\n",
    "        n_estimators=50,\n",
    "        learning_rate=0.2,\n",
    "        max_depth=3,\n",
    "        subsample=0.6,\n",
    "        colsample_bytree=1.0,\n",
    "        random_state=42\n",
    "    )\n",
    "\n",
    "    model.fit(X_train, y_train)\n",
    "\n",
    "    # SHAP values\n",
    "    explainer = shap.TreeExplainer(model)\n",
    "    shap_values = explainer.shap_values(X_valid)\n",
    "\n",
    "    all_shap_vals.append(shap_values)\n",
    "    all_X_valid.append(X_valid)\n",
    "\n",
    "print(\"All folds complete.\\n\")"
   ]
  },
  {
   "cell_type": "code",
   "execution_count": 6,
   "id": "274f368c",
   "metadata": {},
   "outputs": [],
   "source": [
    "shap_values_all = np.vstack(all_shap_vals)\n",
    "X_all_valid     = pd.concat(all_X_valid)\n"
   ]
  },
  {
   "cell_type": "code",
   "execution_count": 7,
   "id": "94c8caf9",
   "metadata": {},
   "outputs": [],
   "source": [
    "mean_abs_shap = np.abs(shap_values_all).mean(axis=0)\n",
    "importance_order = feature_names[np.argsort(mean_abs_shap)][::-1]  # descending\n",
    "\n"
   ]
  },
  {
   "cell_type": "code",
   "execution_count": 8,
   "id": "d248007b",
   "metadata": {},
   "outputs": [],
   "source": [
    "new_names = {\n",
    "    'voltage': 'Voltage (kV)',\n",
    "    'flow_rate': 'Flow rate (mL/h)',\n",
    "    'distance': 'Tip-Collector Distance (cm)',\n",
    "    'concentration': 'Concentration (wt%)'\n",
    "}\n",
    "\n",
    "X_all_valid_renamed = X_all_valid.rename(columns=new_names)\n"
   ]
  },
  {
   "cell_type": "code",
   "execution_count": null,
   "id": "c3cfa53b",
   "metadata": {},
   "outputs": [
    {
     "data": {
      "image/png": "[encoded data removed]",
      "text/plain": [
       "<Figure size 800x310 with 2 Axes>"
      ]
     },
     "metadata": {},
     "output_type": "display_data"
    },
    {
     "data": {
      "text/plain": [
       "<Figure size 640x480 with 0 Axes>"
      ]
     },
     "metadata": {},
     "output_type": "display_data"
    }
   ],
   "source": [
    "plt.figure(figsize=(6,4))\n",
    "\n",
    "shap.summary_plot(\n",
    "    shap_values_all,\n",
    "    X_all_valid_renamed,\n",
    "    max_display=4,\n",
    "    plot_type=\"dot\",\n",
    "    color=plt.get_cmap(\"viridis\"),\n",
    "    show=False # Prevents SHAP from automatically calling plt.show()\n",
    ")\n",
    "\n",
    "plt.xlabel(\"SHAP value (impact on predicted nanofibre diameter)\") # <-- CRITICAL ADDITION\n",
    "plt.tight_layout()\n",
    "plt.savefig(\"shap_nanofibre_diameter.png\", dpi=300)\n",
    "plt.show()"
   ]
  }
 ],
 "metadata": {
  "kernelspec": {
   "display_name": ".venv",
   "language": "python",
   "name": "python3"
  },
  "language_info": {
   "codemirror_mode": {
    "name": "ipython",
    "version": 3
   },
   "file_extension": ".py",
   "mimetype": "text/x-python",
   "name": "python",
   "nbconvert_exporter": "python",
   "pygments_lexer": "ipython3",
   "version": "3.10.12"
  }
 },
 "nbformat": 4,
 "nbformat_minor": 5
}
